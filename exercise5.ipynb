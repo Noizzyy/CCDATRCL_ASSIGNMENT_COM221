{
  "cells": [
    {
      "cell_type": "markdown",
      "metadata": {
        "id": "DN15rkKvhGBr"
      },
      "source": [
        "# Exercise 5"
      ]
    },
    {
      "cell_type": "markdown",
      "metadata": {
        "id": "oEys_5t7hGBt"
      },
      "source": [
        "#### 1. Create a dictionary of your 10 favorite songs."
      ]
    },
    {
      "cell_type": "markdown",
      "metadata": {
        "id": "T1iOtzXshGBu"
      },
      "source": [
        "Example:\n",
        "\n",
        "|KEY|VALUE|\n",
        "|---|---|\n",
        "|001|My Love|\n",
        "|002|Like a rose|"
      ]
    },
    {
      "cell_type": "code",
      "execution_count": 10,
      "metadata": {
        "id": "dprOhMRchGBu",
        "outputId": "3edb0c0a-71a7-45d0-e253-2662ac6ff5c3",
        "colab": {
          "base_uri": "https://localhost:8080/"
        }
      },
      "outputs": [
        {
          "output_type": "stream",
          "name": "stdout",
          "text": [
            "{'001': 'One Less Lonely Girl', '002': 'November', '003': 'Pahintulot', '004': 'Overcome', '005': 'dream', '006': 'Rock Your Body', '007': 'Home', '008': 'Harana', '009': 'Stuct', '010': 'Eyes'}\n"
          ]
        }
      ],
      "source": [
        "# put your answer here\n",
        "mydictionary = {\n",
        "  \"001\": \"One Less Lonely Girl\",\n",
        "  \"002\": \"November\",\n",
        "  \"003\": \"Pahintulot\",\n",
        "  \"004\": \"Overcome\",\n",
        "  \"005\": \"dream\",\n",
        "  \"006\": \"Rock Your Body\",\n",
        "  \"007\": \"Home\",\n",
        "  \"008\": \"Harana\",\n",
        "  \"009\": \"Stuct\",\n",
        "  \"010\": \"Eyes\"\n",
        "}\n",
        "print(mydictionary)"
      ]
    },
    {
      "cell_type": "markdown",
      "metadata": {
        "id": "g1FstA7XhGBv"
      },
      "source": [
        "#### 2. Loop through the dictionary by its **key** and **value**"
      ]
    },
    {
      "cell_type": "code",
      "execution_count": 11,
      "metadata": {
        "id": "QgyUTiuHhGBv",
        "outputId": "65d168eb-0ecb-488b-9297-b0dacfe7d880",
        "colab": {
          "base_uri": "https://localhost:8080/"
        }
      },
      "outputs": [
        {
          "output_type": "stream",
          "name": "stdout",
          "text": [
            "001\n",
            "002\n",
            "003\n",
            "004\n",
            "005\n",
            "006\n",
            "007\n",
            "008\n",
            "009\n",
            "010\n"
          ]
        }
      ],
      "source": [
        "# put your answer here\n",
        "\n",
        "for i in mydictionary:\n",
        "  print(i)"
      ]
    },
    {
      "cell_type": "markdown",
      "metadata": {
        "id": "h5N_w8-yhGBw"
      },
      "source": [
        "#### 3. Add one additional song"
      ]
    },
    {
      "cell_type": "code",
      "execution_count": 12,
      "metadata": {
        "id": "oUXMAJWEhGBw",
        "outputId": "574f95b5-93d8-41af-83c0-d337783dd3f9",
        "colab": {
          "base_uri": "https://localhost:8080/"
        }
      },
      "outputs": [
        {
          "output_type": "execute_result",
          "data": {
            "text/plain": [
              "{'001': 'One Less Lonely Girl',\n",
              " '002': 'November',\n",
              " '003': 'Pahintulot',\n",
              " '004': 'Overcome',\n",
              " '005': 'dream',\n",
              " '006': 'Rock Your Body',\n",
              " '007': 'Home',\n",
              " '008': 'Harana',\n",
              " '009': 'Stuct',\n",
              " '010': 'Eyes',\n",
              " '011': 'Heaven knows'}"
            ]
          },
          "metadata": {},
          "execution_count": 12
        }
      ],
      "source": [
        "# put your answer here\n",
        "mydictionary[\"011\"] = \"Heaven knows\"\n",
        "mydictionary\n",
        ""
      ]
    },
    {
      "cell_type": "markdown",
      "metadata": {
        "id": "7OlW5r9dhGBx"
      },
      "source": [
        "#### 4. Remove one song"
      ]
    },
    {
      "cell_type": "code",
      "execution_count": 13,
      "metadata": {
        "id": "g39mqwpDhGBx",
        "outputId": "41516168-f4b2-4427-c69c-1475ac977888",
        "colab": {
          "base_uri": "https://localhost:8080/"
        }
      },
      "outputs": [
        {
          "output_type": "execute_result",
          "data": {
            "text/plain": [
              "{'001': 'One Less Lonely Girl',\n",
              " '002': 'November',\n",
              " '003': 'Pahintulot',\n",
              " '005': 'dream',\n",
              " '006': 'Rock Your Body',\n",
              " '007': 'Home',\n",
              " '008': 'Harana',\n",
              " '009': 'Stuct',\n",
              " '010': 'Eyes',\n",
              " '011': 'Heaven knows'}"
            ]
          },
          "metadata": {},
          "execution_count": 13
        }
      ],
      "source": [
        "# put your answer here\n",
        "\n",
        "mydictionary.pop(\"004\")\n",
        "mydictionary"
      ]
    },
    {
      "cell_type": "markdown",
      "metadata": {
        "id": "gZ8Sr1bzhGBy"
      },
      "source": [
        "#### 5. Create a nested dictionary of your 10 favorite songs with 5 genres. Display all of the items of the nested dictionary\n",
        "\n",
        "- Each nested dictionary's key should be the genre of the song\n",
        "- Put each song in their respective genre"
      ]
    },
    {
      "cell_type": "markdown",
      "metadata": {
        "id": "US1ZaaSJhGBy"
      },
      "source": [
        "Example:\n",
        "\n",
        "\n",
        "|KEY|VALUE|\n",
        "|---|---|\n",
        "|Pop|{001, Baby}|\n",
        "|Rock|{001, Enter Sandman}|"
      ]
    },
    {
      "cell_type": "code",
      "execution_count": 20,
      "metadata": {
        "id": "z577KULkhGBz",
        "outputId": "229433e0-7361-448c-9880-7a0f1455a0dc",
        "colab": {
          "base_uri": "https://localhost:8080/"
        }
      },
      "outputs": [
        {
          "output_type": "stream",
          "name": "stdout",
          "text": [
            "Genre:POP\n",
            "001:One Less Lonely Girl\n",
            "006:Rock Your Body\n",
            "Genre:Jazz\n",
            "002:November\n",
            "007:Home\n",
            "Genre:OPM\n",
            "003:Pahintulot\n",
            "008:Harana\n",
            "011:Heaven knows\n",
            "Genre:IDIE\n",
            "004:Overcome\n",
            "009:Stuct\n",
            "Genre:Rock\n",
            "005:dream\n",
            "010:Eyes\n"
          ]
        }
      ],
      "source": [
        "# put your answer here\n",
        "\n",
        "mydictionary = {\n",
        "  \"POP\" : {\n",
        "    \"001\" : \"One Less Lonely Girl\",\n",
        "    \"006\" : \"Rock Your Body\"\n",
        "  },\n",
        "  \"Jazz\" : {\n",
        "    \"002\" : \"November\",\n",
        "    \"007\" : \"Home\",\n",
        "  },\n",
        "  \"OPM\" : {\n",
        "    \"003\" : \"Pahintulot\",\n",
        "    \"008\" : \"Harana\",\n",
        "    \"011\" : \"Heaven knows\"\n",
        "  },\n",
        "  \"IDIE\" : {\n",
        "    \"004\" : \"Overcome\",\n",
        "    \"009\" : \"Stuct\"\n",
        "  },\n",
        "  \"Rock\" : {\n",
        "    \"005\": \"dream\",\n",
        "    \"010\" : \"Eyes\"\n",
        "  }\n",
        "}\n",
        "for genre, songs in mydictionary.items():\n",
        "    print(f'Genre:{genre}')\n",
        "    for song_id, song_title in songs.items():\n",
        "      print(f'{song_id}:{song_title}')\n"
      ]
    },
    {
      "cell_type": "markdown",
      "metadata": {
        "id": "ZMgltzOkhGBz"
      },
      "source": [
        "#### 6. Print the first song of the first genre"
      ]
    },
    {
      "cell_type": "code",
      "execution_count": 19,
      "metadata": {
        "id": "nmXUGoNWhGBz",
        "outputId": "040c091f-dbb5-4882-b9d8-bf65a1df6f6e",
        "colab": {
          "base_uri": "https://localhost:8080/"
        }
      },
      "outputs": [
        {
          "output_type": "stream",
          "name": "stdout",
          "text": [
            "One Less Lonely Girl\n"
          ]
        }
      ],
      "source": [
        "# put your answer here\n",
        "\n",
        "print(mydictionary[\"POP\"][\"001\"])"
      ]
    },
    {
      "cell_type": "markdown",
      "metadata": {
        "id": "dEcgwp_ihGB0"
      },
      "source": [
        "#### 7. Print the first song of the last genre"
      ]
    },
    {
      "cell_type": "code",
      "execution_count": 21,
      "metadata": {
        "id": "ITbuWq2UhGB0"
      },
      "outputs": [],
      "source": [
        "# put your answer here"
      ]
    },
    {
      "cell_type": "code",
      "source": [
        "print(mydictionary[\"Rock\"][\"005\"])"
      ],
      "metadata": {
        "id": "5uD6D0LtUGQs",
        "outputId": "2618eddb-6fc4-4be5-d620-44d695b3bb5f",
        "colab": {
          "base_uri": "https://localhost:8080/"
        }
      },
      "execution_count": 25,
      "outputs": [
        {
          "output_type": "stream",
          "name": "stdout",
          "text": [
            "dream\n"
          ]
        }
      ]
    }
  ],
  "metadata": {
    "kernelspec": {
      "display_name": "Python 3",
      "language": "python",
      "name": "python3"
    },
    "language_info": {
      "codemirror_mode": {
        "name": "ipython",
        "version": 3
      },
      "file_extension": ".py",
      "mimetype": "text/x-python",
      "name": "python",
      "nbconvert_exporter": "python",
      "pygments_lexer": "ipython3",
      "version": "3.11.4"
    },
    "orig_nbformat": 4,
    "colab": {
      "provenance": []
    }
  },
  "nbformat": 4,
  "nbformat_minor": 0
}