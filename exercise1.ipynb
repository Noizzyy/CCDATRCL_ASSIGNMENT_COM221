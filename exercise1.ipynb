{
  "cells": [
    {
      "cell_type": "markdown",
      "metadata": {
        "id": "h2vFiYhGzZOg"
      },
      "source": [
        "# Exercise 1"
      ]
    },
    {
      "cell_type": "markdown",
      "source": [
        "## Class Initialization"
      ],
      "metadata": {
        "id": "sRm6kPQozcaU"
      }
    },
    {
      "cell_type": "code",
      "execution_count": 2,
      "metadata": {
        "id": "b1u4Dt9mzZOi"
      },
      "outputs": [],
      "source": [
        "class Node:\n",
        "    def __init__(self, data):\n",
        "        self.data = data\n",
        "        self.next = None"
      ]
    },
    {
      "cell_type": "code",
      "execution_count": 3,
      "metadata": {
        "id": "tigvHSaHzZOj"
      },
      "outputs": [],
      "source": [
        "class LinkedList:\n",
        "\n",
        "    def __init__(self):\n",
        "        self.head = None\n",
        "\n",
        "    def traverse(self, node):\n",
        "        while node:\n",
        "            print(node.data, end=\" -> \")\n",
        "            node = node.next"
      ]
    },
    {
      "cell_type": "code",
      "execution_count": 4,
      "metadata": {
        "id": "LIkQBioVzZOk"
      },
      "outputs": [],
      "source": [
        "class DoublyLinkedList:\n",
        "\n",
        "    def __init__(self):\n",
        "        self.head = None\n",
        "\n",
        "    def traverse(self, node):\n",
        "        while node:\n",
        "            print(node.data, end=\" -> \")\n",
        "            node = node.next"
      ]
    },
    {
      "cell_type": "code",
      "execution_count": 5,
      "metadata": {
        "id": "zlxNT5EozZOl"
      },
      "outputs": [],
      "source": [
        "class CircularLinkedList:\n",
        "\n",
        "    def __init__(self):\n",
        "        self.head = None\n",
        "\n",
        "    def traverse(self, node):\n",
        "\n",
        "        head = node\n",
        "\n",
        "        while node:\n",
        "            print(node.data, end=\" -> \")\n",
        "            node = node.next\n",
        "\n",
        "            # Break to prevent infinite loop\n",
        "            if node == head:\n",
        "                break"
      ]
    },
    {
      "cell_type": "markdown",
      "metadata": {
        "id": "O68-Q1-bzZOl"
      },
      "source": [
        "#### 1. Create a Singly Linked list\n",
        "\n",
        "- Each node should contain your name and your seatmates in your row\n",
        "- Create at least 5 nodes\n",
        "- Traverse all nodes"
      ]
    },
    {
      "cell_type": "code",
      "execution_count": 6,
      "metadata": {
        "id": "pTcx_OuPzZOl",
        "outputId": "367eb845-d426-4b65-b135-76750ec3a018",
        "colab": {
          "base_uri": "https://localhost:8080/"
        }
      },
      "outputs": [
        {
          "output_type": "stream",
          "name": "stdout",
          "text": [
            "1 -> 2 -> 4 -> 3 -> 5 -> "
          ]
        }
      ],
      "source": [
        "Linked_list = LinkedList()\n",
        "\n",
        "Linked_list.head = Node(1)\n",
        "miko = Node(2)\n",
        "allen = Node(3)\n",
        "andrew = Node(4)\n",
        "brix = Node(5)\n",
        "\n",
        "Linked_list.head.next = miko\n",
        "miko.next = andrew\n",
        "andrew.next = allen\n",
        "allen.next = brix\n",
        "\n",
        "Linked_list.traverse(Linked_list.head)\n",
        "\n",
        "\n",
        "\n",
        "\n"
      ]
    },
    {
      "cell_type": "markdown",
      "metadata": {
        "id": "IFgwbdw_zZOm"
      },
      "source": [
        "#### 2. Create a Doubly Linked list\n",
        "\n",
        "- Each node should contain your name and your seatmates in your row\n",
        "- Create at least 5 nodes\n",
        "- Traverse all nodes"
      ]
    },
    {
      "cell_type": "code",
      "execution_count": 18,
      "metadata": {
        "id": "8kQD2A_QzZOm",
        "outputId": "4e82f3df-1512-4a28-edc1-3e331cc668a3",
        "colab": {
          "base_uri": "https://localhost:8080/"
        }
      },
      "outputs": [
        {
          "output_type": "stream",
          "name": "stdout",
          "text": [
            "value of head is : 1\n",
            "value of next to head is : 2\n",
            "---\n",
            "value of miko is : 2\n",
            "value of previous of miko is : 1\n",
            "value of next of miko is : 3\n",
            "---\n",
            "value of allen is : 3\n",
            "value of previous of allen is : 2\n",
            "value of next of allen is : 4\n",
            "---\n",
            "value of amdrew is : 4\n",
            "value of previous of andrew is : 3\n",
            "value of next of andrew is : 5\n",
            "---\n",
            "value of brix is : 5\n",
            "value of previous of brix is : 4\n",
            "1 -> 2 -> 3 -> 4 -> 5 -> "
          ]
        }
      ],
      "source": [
        "doubly_linked_list = DoublyLinkedList()\n",
        "\n",
        "doubly_linked_list.head = Node(1)\n",
        "miko = Node(2)\n",
        "allen = Node(3)\n",
        "andrew = Node(4)\n",
        "brix = Node(5)\n",
        "\n",
        "doubly_linked_list.head.prev = None\n",
        "doubly_linked_list.head.next = miko\n",
        "\n",
        "miko.prev = doubly_linked_list.head\n",
        "miko.next = allen\n",
        "\n",
        "allen.prev = miko\n",
        "allen.next = andrew\n",
        "\n",
        "andrew.prev = allen\n",
        "andrew.next = brix\n",
        "\n",
        "brix.prev = andrew\n",
        "brix.next = None\n",
        "\n",
        "print(\"value of head is :\", doubly_linked_list.head.data)\n",
        "print(\"value of next to head is :\", doubly_linked_list.head.next.data)\n",
        "\n",
        "print(\"---\")\n",
        "\n",
        "print(\"value of miko is :\", miko.data)\n",
        "print(\"value of previous of miko is :\", miko.prev.data)\n",
        "print(\"value of next of miko is :\", miko.next.data)\n",
        "\n",
        "print(\"---\")\n",
        "\n",
        "print(\"value of allen is :\", allen.data)\n",
        "print(\"value of previous of allen is :\", allen.prev.data)\n",
        "print(\"value of next of allen is :\", allen.next.data)\n",
        "\n",
        "print(\"---\")\n",
        "\n",
        "print(\"value of amdrew is :\", andrew.data)\n",
        "print(\"value of previous of andrew is :\", andrew.prev.data)\n",
        "print(\"value of next of andrew is :\", andrew.next.data)\n",
        "\n",
        "print(\"---\")\n",
        "\n",
        "print(\"value of brix is :\", brix.data)\n",
        "print(\"value of previous of brix is :\", brix.prev.data)\n",
        "\n",
        "\n",
        "doubly_linked_list.traverse(doubly_linked_list.head)\n",
        "\n",
        "\n",
        "\n",
        "\n",
        "\n",
        "\n"
      ]
    },
    {
      "cell_type": "markdown",
      "metadata": {
        "id": "rtApbsCjzZOm"
      },
      "source": [
        "#### 3. Create a Circular Linked list\n",
        "\n",
        "- Each node should contain your name and your seatmates in your row\n",
        "- Create at least 5 nodes\n",
        "- Traverse all nodes"
      ]
    },
    {
      "cell_type": "code",
      "execution_count": 16,
      "metadata": {
        "id": "Gp1Oiq0jzZOn",
        "colab": {
          "base_uri": "https://localhost:8080/"
        },
        "outputId": "0ec8b4ae-b7e3-489c-ee3b-50a4b9451424"
      },
      "outputs": [
        {
          "output_type": "stream",
          "name": "stdout",
          "text": [
            "value of head is : 1\n",
            "value of next to head is : 2\n",
            "---\n",
            "value of miko is : 2\n",
            "value of next of miko is : 3\n",
            "---\n",
            "value of allen is : 3\n",
            "value of next of allen is : 4\n",
            "---\n",
            "value of allen is : 4\n",
            "value of next of allen is : 5\n",
            "---\n",
            "value of allen is : 5\n",
            "value of next of allen is : 1\n",
            "1 -> 2 -> 3 -> 4 -> 5 -> "
          ]
        }
      ],
      "source": [
        "circular_linked_list = CircularLinkedList()\n",
        "\n",
        "circular_linked_list.head = Node(1)\n",
        "miko = Node(2)\n",
        "allen = Node(3)\n",
        "andrew = Node(4)\n",
        "brix = Node(5)\n",
        "\n",
        "circular_linked_list.head.next = miko\n",
        "miko.next = allen\n",
        "allen.next = andrew\n",
        "andrew.next = brix\n",
        "brix.next = circular_linked_list.head\n",
        "\n",
        "print(\"value of head is :\", circular_linked_list.head.data)\n",
        "print(\"value of next to head is :\", circular_linked_list.head.next.data)\n",
        "\n",
        "print(\"---\")\n",
        "\n",
        "print(\"value of miko is :\", miko.data)\n",
        "print(\"value of next of miko is :\", miko.next.data)\n",
        "\n",
        "print(\"---\")\n",
        "\n",
        "print(\"value of allen is :\", allen.data)\n",
        "print(\"value of next of allen is :\", allen.next.data)\n",
        "\n",
        "print(\"---\")\n",
        "\n",
        "print(\"value of allen is :\", andrew.data)\n",
        "print(\"value of next of allen is :\", andrew.next.data)\n",
        "\n",
        "print(\"---\")\n",
        "\n",
        "print(\"value of allen is :\", brix.data)\n",
        "print(\"value of next of allen is :\", brix.next.data)\n",
        "\n",
        "circular_linked_list.traverse(circular_linked_list.head)"
      ]
    }
  ],
  "metadata": {
    "kernelspec": {
      "display_name": "Python 3",
      "language": "python",
      "name": "python3"
    },
    "language_info": {
      "name": "python",
      "version": "3.11.4"
    },
    "orig_nbformat": 4,
    "colab": {
      "provenance": []
    }
  },
  "nbformat": 4,
  "nbformat_minor": 0
}